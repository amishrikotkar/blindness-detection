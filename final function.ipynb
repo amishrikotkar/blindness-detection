{
 "cells": [
  {
   "cell_type": "markdown",
   "metadata": {},
   "source": [
    "<h1>Blindness Detection</h1>"
   ]
  },
  {
   "cell_type": "markdown",
   "metadata": {},
   "source": [
    "<h3>Final function</h3>"
   ]
  },
  {
   "cell_type": "code",
   "execution_count": 1,
   "metadata": {},
   "outputs": [
    {
     "name": "stdout",
     "output_type": "stream",
     "text": [
      "This image is 65.7% Moderate\n"
     ]
    },
    {
     "data": {
      "image/png": "[encoded data removed]",
      "text/plain": [
       "<Figure size 432x288 with 1 Axes>"
      ]
     },
     "metadata": {
      "needs_background": "light"
     },
     "output_type": "display_data"
    },
    {
     "name": "stdout",
     "output_type": "stream",
     "text": [
      "Prediction time: 14.489 seconds\n",
      "Prediction rate: 0.241 per minute\n"
     ]
    }
   ],
   "source": [
    "import time\n",
    "start = time.time()\n",
    "\n",
    "import numpy as np\n",
    "import tensorflow as tf\n",
    "import matplotlib.pyplot as plt\n",
    "\n",
    "AUTOTUNE = tf.data.experimental.AUTOTUNE\n",
    "LABELS = [\"No DR\", \"Mild\", \"Moderate\", \"Severe\", \"Proliferative DR\"]\n",
    "BATCH_SIZE = 8\n",
    "IMAGE_SIZE = [320, 320]\n",
    "\n",
    "model = tf.keras.models.load_model(\"model.h5\")\n",
    "\n",
    "def final_func_1(image_path):\n",
    "\n",
    "    def decode_img(image):\n",
    "        image = tf.image.decode_png(image, channels=3)\n",
    "        image = tf.image.convert_image_dtype(image, tf.float32)\n",
    "        return tf.image.resize(image, IMAGE_SIZE)\n",
    "\n",
    "    def preprocess(image):\n",
    "        image = tf.io.read_file(image)\n",
    "        image = decode_img(image)\n",
    "        return image\n",
    "    \n",
    "    image = list(tf.data.Dataset.list_files(image_path))\n",
    "\n",
    "    ds = tf.data.Dataset.from_tensor_slices(image)\n",
    "    ds = ds.map(preprocess, num_parallel_calls=AUTOTUNE)\n",
    "    ds = ds.batch(BATCH_SIZE)\n",
    "\n",
    "    prediction = model.predict(ds)\n",
    "    \n",
    "    number = str(round(100 * prediction[0][np.argmax(prediction[0])], 2))\n",
    "    predicted_label = f\"This image is {number}% {LABELS[np.argmax(prediction)]}\"\n",
    "    \n",
    "    print(predicted_label)\n",
    "    \n",
    "    plt.subplot(1, 1, 1)\n",
    "    plt.bar(np.arange(len(prediction[0])), prediction[0])\n",
    "    plt.xlabel(\"DR Severity Grade\")\n",
    "    plt.ylabel(\"Model Score\")\n",
    "    plt.show()\n",
    "    \n",
    "final_func_1(\"train_images/61bbc11fe503.png\")\n",
    "\n",
    "print('Prediction time: {:.3f} seconds'.format(time.time() - start))\n",
    "print('Prediction rate: {:.3f} per minute'.format((time.time() - start)/60))"
   ]
  },
  {
   "cell_type": "code",
   "execution_count": 2,
   "metadata": {},
   "outputs": [
    {
     "name": "stdout",
     "output_type": "stream",
     "text": [
      "This image is 96.94% Moderate\n"
     ]
    },
    {
     "data": {
      "image/png": "[encoded data removed]",
      "text/plain": [
       "<Figure size 432x288 with 1 Axes>"
      ]
     },
     "metadata": {
      "needs_background": "light"
     },
     "output_type": "display_data"
    },
    {
     "name": "stdout",
     "output_type": "stream",
     "text": [
      "Prediction rate - 0.009 per minute\n"
     ]
    }
   ],
   "source": [
    "start = time.time()\n",
    "\n",
    "final_func_1(\"train_images/a3b2e93d058b.png\")\n",
    "\n",
    "print('Prediction rate - {:.3f} per minute'.format((time.time() - start)/60))"
   ]
  },
  {
   "cell_type": "code",
   "execution_count": 3,
   "metadata": {},
   "outputs": [
    {
     "name": "stdout",
     "output_type": "stream",
     "text": [
      "This image is 99.74% No DR\n"
     ]
    },
    {
     "data": {
      "image/png": "[encoded data removed]",
      "text/plain": [
       "<Figure size 432x288 with 1 Axes>"
      ]
     },
     "metadata": {
      "needs_background": "light"
     },
     "output_type": "display_data"
    },
    {
     "name": "stdout",
     "output_type": "stream",
     "text": [
      "Prediction rate - 0.008 per minute\n"
     ]
    }
   ],
   "source": [
    "start = time.time()\n",
    "\n",
    "final_func_1(\"train_images/60edda7b4871.png\")\n",
    "\n",
    "print('Prediction rate - {:.3f} per minute'.format((time.time() - start)/60))"
   ]
  },
  {
   "cell_type": "markdown",
   "metadata": {},
   "source": [
    "<h3>Conclusion</h3>"
   ]
  },
  {
   "cell_type": "markdown",
   "metadata": {},
   "source": [
    "For the first time, prediction time (14s) is hihger because we are loading model and then predicting. But after first prediction it will be very less (0.45 s)."
   ]
  },
  {
   "cell_type": "code",
   "execution_count": null,
   "metadata": {},
   "outputs": [],
   "source": []
  }
 ],
 "metadata": {
  "kernelspec": {
   "display_name": "Python 3",
   "language": "python",
   "name": "python3"
  },
  "language_info": {
   "codemirror_mode": {
    "name": "ipython",
    "version": 3
   },
   "file_extension": ".py",
   "mimetype": "text/x-python",
   "name": "python",
   "nbconvert_exporter": "python",
   "pygments_lexer": "ipython3",
   "version": "3.7.8"
  }
 },
 "nbformat": 4,
 "nbformat_minor": 4
}
